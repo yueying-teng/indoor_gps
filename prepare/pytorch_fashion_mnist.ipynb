{
 "cells": [
  {
   "cell_type": "code",
   "execution_count": 10,
   "metadata": {},
   "outputs": [],
   "source": [
    "import torch\n",
    "import os\n",
    "import gzip\n",
    "import numpy as np\n",
    "import pandas as pd\n",
    "import matplotlib.pyplot as plt\n",
    "%matplotlib inline\n",
    "\n",
    "import torch\n",
    "import torch.nn as nn\n",
    "import torchvision.transforms as transforms\n",
    "from torch.autograd import Variable\n",
    "from torch.utils.data import Dataset, DataLoader\n"
   ]
  },
  {
   "cell_type": "code",
   "execution_count": 2,
   "metadata": {},
   "outputs": [
    {
     "data": {
      "text/plain": [
       "False"
      ]
     },
     "execution_count": 2,
     "metadata": {},
     "output_type": "execute_result"
    }
   ],
   "source": [
    "torch.cuda.is_available()"
   ]
  },
  {
   "cell_type": "code",
   "execution_count": 3,
   "metadata": {},
   "outputs": [],
   "source": [
    "def load_mnist(path, kind = 'train'):\n",
    "    '''\n",
    "    https://github.com/zalandoresearch/fashion-mnist/blob/master/utils/mnist_reader.py\n",
    "    '''\n",
    "\n",
    "    \"\"\"Load MNIST data from `path`\"\"\"\n",
    "    labels_path = os.path.join(path,'%s-labels-idx1-ubyte.gz' % kind)\n",
    "    images_path = os.path.join(path, '%s-images-idx3-ubyte.gz' % kind)\n",
    "\n",
    "    with gzip.open(labels_path, 'rb') as lbpath:\n",
    "        labels = np.frombuffer(lbpath.read(), dtype = np.uint8, offset=8)\n",
    "\n",
    "    with gzip.open(images_path, 'rb') as imgpath:\n",
    "        images = np.frombuffer(imgpath.read(), dtype=np.uint8, offset=16).reshape(len(labels), 784)\n",
    "\n",
    "    return images, labels\n"
   ]
  },
  {
   "cell_type": "code",
   "execution_count": 5,
   "metadata": {},
   "outputs": [],
   "source": [
    "x_train, y_train = load_mnist('./fashion_mnist_data/', kind = 'train')\n",
    "\n",
    "x_test, y_test = load_mnist('./fashion_mnist_data/', kind = 't10k')\n"
   ]
  },
  {
   "cell_type": "code",
   "execution_count": 91,
   "metadata": {},
   "outputs": [],
   "source": [
    "# combine loaded training and testing data and label into one df/\n",
    "\n",
    "def data_label_to_cscv(data, label, csv_name):\n",
    "    # concat pixel values and label to make one np.array\n",
    "    data_label = np.concatenate((label.reshape(-1, 1), data), axis = 1)\n",
    "    # convert to df\n",
    "    data_label = pd.DataFrame(data_label, columns = ['label'] + ['pixel' + str(i + 1) for i in range(784)])\n",
    "\n",
    "    # save to csv\n",
    "    # data_label.to_csv(csv_name, index = False)\n",
    "    \n",
    "    return data_label\n"
   ]
  },
  {
   "cell_type": "code",
   "execution_count": 95,
   "metadata": {},
   "outputs": [],
   "source": [
    "data_train = data_label_to_cscv(x_train, y_train, 'data_train.csv')\n",
    "data_test = data_label_to_cscv(x_test, y_test, 'data_test.csv')\n"
   ]
  },
  {
   "cell_type": "code",
   "execution_count": 8,
   "metadata": {},
   "outputs": [],
   "source": [
    "# load data\n",
    "# data_train = pd.read_csv('data_train.csv')\n",
    "# data_test = pd.read_csv('data_test.csv')\n"
   ]
  },
  {
   "cell_type": "markdown",
   "metadata": {},
   "source": [
    "'''\n",
    "class Dataset(object):\n",
    "    \"\"\"An abstract class representing a Dataset.\n",
    "    All other datasets should subclass it. All subclasses should override\n",
    "    ``__len__``, that provides the size of the dataset, and ``__getitem__``,\n",
    "    supporting integer indexing in range from 0 to len(self) exclusive.\n",
    "    \"\"\"\n",
    "\n",
    "    def __getitem__(self, index):\n",
    "        raise NotImplementedError\n",
    "\n",
    "    def __len__(self):\n",
    "        raise NotImplementedError\n",
    "\n",
    "    def __add__(self, other):\n",
    "        return ConcatDataset([self, other])\n",
    "\n",
    "'''"
   ]
  },
  {
   "cell_type": "code",
   "execution_count": 138,
   "metadata": {},
   "outputs": [],
   "source": [
    "class my_dataset(Dataset):\n",
    "    '''\n",
    "    Dataset: An abstract class representing a Dataset.\n",
    "    '''\n",
    "    \n",
    "    def __init__(self, data, transform = None):\n",
    "        self.fashion_mnist = list(data.values)\n",
    "        self.transform = transform\n",
    "        label, img = [], []\n",
    "        \n",
    "        for one_line in self.fashion_mnist:\n",
    "            label.append(one_line[0])\n",
    "            img.append(one_line[1:])\n",
    "            \n",
    "        self.label = np.asarray(label)\n",
    "        self.img = np.asarray(img).reshape(-1, IMAGE_SIZE, IMAGE_SIZE, CHANNEL).astype('float')\n",
    "        \n",
    "    def __getitem__(self, item):\n",
    "        label, img = self.label[item], self.img[item]\n",
    "        if self.transform is not None:\n",
    "            img = self.transform(img)\n",
    "            \n",
    "        return label, img\n",
    "    \n",
    "    def __len__(self):\n",
    "        return len(self.label)\n",
    "    "
   ]
  },
  {
   "cell_type": "code",
   "execution_count": 139,
   "metadata": {},
   "outputs": [],
   "source": [
    "BATCH_SIZE = 1000\n",
    "LR = 0.005\n",
    "NUM_CLASS = 10\n",
    "IMAGE_SIZE = 28\n",
    "CHANNEL = 1\n",
    "Train_epoch = 5\n",
    "# device = torch.device('cuda' if torch.cuda.is_available() else 'cpu')\n",
    "\n",
    "CLASS_CLOTHING = {0 : 'T-Shirt', 1 : 'Trouser', 2 : 'Pullover', 3 : 'Dress', 4 : 'Coat', 5 : 'Sandal', 6 : 'Shirt',\n",
    "              7 : 'Sneaker', 8 : 'Bag', 9 : 'Ankle Boot'}"
   ]
  },
  {
   "cell_type": "code",
   "execution_count": 164,
   "metadata": {},
   "outputs": [],
   "source": [
    "# Converts a PIL Image or numpy.ndarray (H x W x C) in the range [0, 255] to a torch.FloatTensor of shape (C x H x W) in the range [0.0, 1.0].\n",
    "my_transform = transforms.Compose([transforms.ToTensor()])\n",
    "\n",
    "train_data = my_dataset(data_train, transform = my_transform)\n",
    "test_data = my_dataset(data_test, transform = my_transform)\n",
    "\n",
    "# Combines a dataset and a sampler, and provides single- or multi-process iterators over the dataset.\n",
    "# make data iterable\n",
    "train_dataloader = DataLoader(dataset = train_data, batch_size = BATCH_SIZE, shuffle = True)\n",
    "test_dataloader = DataLoader(dataset = test_data, batch_size = BATCH_SIZE, shuffle = False)\n"
   ]
  },
  {
   "cell_type": "code",
   "execution_count": 165,
   "metadata": {},
   "outputs": [
    {
     "data": {
      "image/png": "[encoded data removed]",
      "text/plain": [
       "<Figure size 576x576 with 20 Axes>"
      ]
     },
     "metadata": {},
     "output_type": "display_data"
    }
   ],
   "source": [
    "# visualize 20 random images in train_data\n",
    "\n",
    "col = 4\n",
    "row = 5\n",
    "N = len(train_data.img)\n",
    "fig = plt.figure(figsize = (8, 8))\n",
    "\n",
    "for i in range(1, 21):\n",
    "    img_index = np.random.randint(N)\n",
    "    img = train_data.img[img_index][:, :, 0]\n",
    "    img_title = CLASS_CLOTHING[train_data.label[img_index]]\n",
    "    \n",
    "    fig.add_subplot(row, col, i)\n",
    "    plt.title(img_title)\n",
    "    plt.imshow(img)\n",
    "    "
   ]
  },
  {
   "cell_type": "code",
   "execution_count": 166,
   "metadata": {},
   "outputs": [],
   "source": [
    "# define the model\n",
    "\n",
    "class my_model(nn.Module):\n",
    "    def __init__(self, num_of_class):\n",
    "        super(my_model, self).__init__()\n",
    "        \n",
    "        self.layer1 = nn.Sequential(\n",
    "            nn.Conv2d(1, 16, kernel_size = 5, stride = 1, padding = 2),\n",
    "            nn.BatchNorm2d(16),\n",
    "            nn.ReLU(),\n",
    "            nn.MaxPool2d(kernel_size = 2, stride = 2)\n",
    "        )\n",
    "        self.layer2 = nn.Sequential(\n",
    "            nn.Conv2d(16, 32, kernel_size = 5, stride = 1, padding = 2),\n",
    "            nn.BatchNorm2d(32),\n",
    "            nn.ReLU(),\n",
    "            nn.MaxPool2d(kernel_size = 2, stride = 2)\n",
    "        )\n",
    "        self.layer3 = nn.Sequential(\n",
    "            nn.Linear(7 * 7 * 32, 120),\n",
    "            nn.Dropout(p = 0.4),\n",
    "            nn.Linear(120, num_of_class)\n",
    "        )\n",
    "        \n",
    "        \n",
    "    def forward(self, x):\n",
    "        out = self.layer1(x)\n",
    "        out = self.layer2(out)\n",
    "        out = out.reshape(out.size(0), -1)\n",
    "        out = self.layer3(out)\n",
    "        \n",
    "        return out"
   ]
  },
  {
   "cell_type": "code",
   "execution_count": 167,
   "metadata": {},
   "outputs": [
    {
     "name": "stdout",
     "output_type": "stream",
     "text": [
      "my_model(\n",
      "  (layer1): Sequential(\n",
      "    (0): Conv2d(1, 16, kernel_size=(5, 5), stride=(1, 1), padding=(2, 2))\n",
      "    (1): BatchNorm2d(16, eps=1e-05, momentum=0.1, affine=True, track_running_stats=True)\n",
      "    (2): ReLU()\n",
      "    (3): MaxPool2d(kernel_size=2, stride=2, padding=0, dilation=1, ceil_mode=False)\n",
      "  )\n",
      "  (layer2): Sequential(\n",
      "    (0): Conv2d(16, 32, kernel_size=(5, 5), stride=(1, 1), padding=(2, 2))\n",
      "    (1): BatchNorm2d(32, eps=1e-05, momentum=0.1, affine=True, track_running_stats=True)\n",
      "    (2): ReLU()\n",
      "    (3): MaxPool2d(kernel_size=2, stride=2, padding=0, dilation=1, ceil_mode=False)\n",
      "  )\n",
      "  (layer3): Sequential(\n",
      "    (0): Linear(in_features=1568, out_features=120, bias=True)\n",
      "    (1): Dropout(p=0.4)\n",
      "    (2): Linear(in_features=120, out_features=10, bias=True)\n",
      "  )\n",
      ")\n"
     ]
    }
   ],
   "source": [
    "model = my_model(10)\n",
    "print (model)\n"
   ]
  },
  {
   "cell_type": "code",
   "execution_count": 119,
   "metadata": {},
   "outputs": [
    {
     "data": {
      "text/plain": [
       "1568"
      ]
     },
     "execution_count": 119,
     "metadata": {},
     "output_type": "execute_result"
    }
   ],
   "source": []
  },
  {
   "cell_type": "code",
   "execution_count": 151,
   "metadata": {},
   "outputs": [],
   "source": [
    "def train():\n",
    "    # model = my_model(NUM_CLASS).to(device)\n",
    "    model = my_model(NUM_CLASS)\n",
    "    optimizer = torch.optim.Adam(model.parameters(), lr = LR)\n",
    "    criterion = nn.CrossEntropyLoss()\n",
    "    \n",
    "    for epoch in range(1, Train_epoch + 1):\n",
    "        for batch_id, (label, image) in enumerate(train_dataloader):\n",
    "            # label, image = label.to(device), image.to(device)\n",
    "            image = Variable(image.float())\n",
    "            label = Variable(label.long())\n",
    "            output = model(image)\n",
    "            loss = criterion(output, label)\n",
    "            \n",
    "            optimizer.zero_grad()\n",
    "            loss.backward()\n",
    "            optimizer.step()\n",
    "            \n",
    "            if batch_id % 200 == 0:\n",
    "                print('loss :{:.4f} Epoch[{}/{}]'.format(loss.item(), epoch, Train_epoch))\n",
    "                \n",
    "    return model"
   ]
  },
  {
   "cell_type": "code",
   "execution_count": 168,
   "metadata": {},
   "outputs": [],
   "source": [
    "def test(model):\n",
    "    with torch.no_grad():\n",
    "        correct = 0\n",
    "        total = 0\n",
    "        for label, image in test_dataloader:\n",
    "            # image = image.to(device)\n",
    "            # label = label.to(device)\n",
    "            image = Variable(image.float())\n",
    "            label = Variable(label.long())\n",
    "            outputs = model(image)\n",
    "            predicted = torch.argmax(outputs, dim = 1)\n",
    "            total += label.size(0)\n",
    "            correct += (predicted == label).sum().item()\n",
    "            \n",
    "        print('Test Accuracy of the model on the test images: {} %'.format(100 * correct / total))\n",
    "        "
   ]
  },
  {
   "cell_type": "code",
   "execution_count": 169,
   "metadata": {},
   "outputs": [
    {
     "name": "stdout",
     "output_type": "stream",
     "text": [
      "loss :2.3254 Epoch[1/5]\n",
      "loss :0.4475 Epoch[2/5]\n",
      "loss :0.3780 Epoch[3/5]\n",
      "loss :0.2624 Epoch[4/5]\n",
      "loss :0.3358 Epoch[5/5]\n",
      "Test Accuracy of the model on the test images: 89.17 %\n"
     ]
    }
   ],
   "source": [
    "if __name__ == '__main__':\n",
    "    model = train()\n",
    "    test(model)\n",
    "    "
   ]
  },
  {
   "cell_type": "code",
   "execution_count": null,
   "metadata": {},
   "outputs": [],
   "source": []
  },
  {
   "cell_type": "code",
   "execution_count": null,
   "metadata": {},
   "outputs": [],
   "source": []
  }
 ],
 "metadata": {
  "kernelspec": {
   "display_name": "Python 3",
   "language": "python",
   "name": "python3"
  },
  "language_info": {
   "codemirror_mode": {
    "name": "ipython",
    "version": 3
   },
   "file_extension": ".py",
   "mimetype": "text/x-python",
   "name": "python",
   "nbconvert_exporter": "python",
   "pygments_lexer": "ipython3",
   "version": "3.6.5"
  }
 },
 "nbformat": 4,
 "nbformat_minor": 2
}
